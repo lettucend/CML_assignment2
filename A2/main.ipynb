{
 "cells": [
  {
   "cell_type": "code",
   "execution_count": 129,
   "id": "initial_id",
   "metadata": {
    "collapsed": true,
    "ExecuteTime": {
     "end_time": "2024-05-08T05:10:58.522680Z",
     "start_time": "2024-05-08T05:10:58.518495Z"
    }
   },
   "outputs": [],
   "source": [
    "import pandas as pd\n",
    "import matplotlib.pyplot as plt\n",
    "from PIL import Image, UnidentifiedImageError\n",
    "from PIL import Image, ImageOps\n",
    "from tensorflow.keras import layers, models\n",
    "import numpy as np\n",
    "from sklearn.model_selection import train_test_split\n",
    "from sklearn.tree import DecisionTreeClassifier\n",
    "from sklearn.metrics import accuracy_score\n",
    "from sklearn.ensemble import RandomForestClassifier\n",
    "from sklearn.svm import SVC\n",
    "from sklearn.preprocessing import StandardScaler\n",
    "from sklearn.pipeline import make_pipeline\n",
    "import tensorflow as tf\n",
    "import os\n",
    "os.environ['TF_CPP_MIN_LOG_LEVEL'] = '2'"
   ]
  },
  {
   "cell_type": "code",
   "outputs": [
    {
     "name": "stdout",
     "output_type": "stream",
     "text": [
      "diamond/rightofway: 282 images\n",
      "hex/stop: 43 images\n",
      "square/laneend: 118 images\n",
      "square/parking: 276 images\n",
      "square/continue: 199 images\n",
      "square/crossing: 95 images\n",
      "triangle/giveway: 231 images\n",
      "triangle/warning: 695 images\n",
      "round/traveldirection: 124 images\n",
      "round/limitedtraffic: 125 images\n",
      "round/speed: 316 images\n",
      "round/roundabout: 98 images\n",
      "round/noentry: 375 images\n",
      "round/noparking: 242 images\n",
      "round/bicycle: 285 images\n",
      "round/trafficdirective: 195 images\n",
      "3699\n"
     ]
    }
   ],
   "source": [
    "import os\n",
    "from PIL import Image, UnidentifiedImageError\n",
    "\n",
    "# 图片所在的根目录\n",
    "root_dir = 'trafficsigns_dataset'  # 请替换成实际的路径\n",
    "\n",
    "# 用于存储按两层标签分隔的图片的嵌套字典\n",
    "images_by_label = {}\n",
    "\n",
    "# 用于遍历数据集并加载图像及其标签的函数\n",
    "def load_images_and_labels(root_dir):\n",
    "    # 遍历根目录下的每个子目录（第一层）\n",
    "    for sub_dir in os.listdir(root_dir):\n",
    "        sub_dir_path = os.path.join(root_dir, sub_dir)\n",
    "        \n",
    "        # 如果子目录确实是一个目录\n",
    "        if os.path.isdir(sub_dir_path):\n",
    "            # 初始化第一层标签键\n",
    "            images_by_label[sub_dir] = {}\n",
    "            \n",
    "            # 再次遍历该子目录下的文件夹（第二层，具体的标签）\n",
    "            for label_dir in os.listdir(sub_dir_path):\n",
    "                label_dir_path = os.path.join(sub_dir_path, label_dir)\n",
    "                \n",
    "                # 如果第二层也是一个目录\n",
    "                if os.path.isdir(label_dir_path):\n",
    "                    # 初始化第二层标签键\n",
    "                    images_by_label[sub_dir][label_dir] = []\n",
    "                    \n",
    "                    # 遍历第二层目录下的所有图像文件\n",
    "                    for image_filename in os.listdir(label_dir_path):\n",
    "                        # 忽略 .DS_Store 文件\n",
    "                        if image_filename == '.DS_Store':\n",
    "                            continue\n",
    "                        image_path = os.path.join(label_dir_path, image_filename)\n",
    "                        try:\n",
    "                            images_by_label[sub_dir][label_dir].append(image_path)\n",
    "                        except UnidentifiedImageError:\n",
    "                            # 如果无法识别图像，打印出错信息\n",
    "                            print(f\"Cannot identify image file '{image_path}'\")\n",
    "\n",
    "# 载入图像数据和标签\n",
    "load_images_and_labels(root_dir)\n",
    "temp = 0\n",
    "# 打印每个类别的图像数量\n",
    "for sub_dir, labels in images_by_label.items():\n",
    "    for label, images in labels.items():\n",
    "        print(f\"{sub_dir}/{label}: {len(images)} images\")\n",
    "        temp += len(images)\n",
    "\n",
    "print(temp)"
   ],
   "metadata": {
    "collapsed": false,
    "ExecuteTime": {
     "end_time": "2024-05-08T05:10:58.561848Z",
     "start_time": "2024-05-08T05:10:58.552159Z"
    }
   },
   "id": "c40004f61bf99a5e",
   "execution_count": 130
  },
  {
   "cell_type": "markdown",
   "source": [
    "28no Unusual"
   ],
   "metadata": {
    "collapsed": false
   },
   "id": "40e278730fffa660"
  },
  {
   "cell_type": "code",
   "outputs": [
    {
     "data": {
      "text/plain": "(array([28, 28]),\n array([28, 28]),\n array([28., 28.]),\n array([0., 0.]),\n array([28., 28.]))"
     },
     "execution_count": 131,
     "metadata": {},
     "output_type": "execute_result"
    }
   ],
   "source": [
    "def get_image_sizes(root_dir):\n",
    "    sizes = []\n",
    "    for subdir, dirs, files in os.walk(root_dir):\n",
    "        for file in files:\n",
    "            if file.lower().endswith('.png') or file.lower().endswith('.jpg'):\n",
    "                try:\n",
    "                    with Image.open(os.path.join(subdir, file)) as img:\n",
    "                        sizes.append(img.size)\n",
    "                except (IOError, UnidentifiedImageError):\n",
    "                    continue\n",
    "    return sizes\n",
    "\n",
    "image_sizes = get_image_sizes(root_dir)\n",
    "\n",
    "sizes_np = np.array(image_sizes)\n",
    "min_size = sizes_np.min(axis=0)\n",
    "max_size = sizes_np.max(axis=0)\n",
    "mean_size = sizes_np.mean(axis=0)\n",
    "std_dev_size = sizes_np.std(axis=0)\n",
    "median_size = np.median(sizes_np, axis=0)\n",
    "\n",
    "min_size, max_size, mean_size, std_dev_size, median_size"
   ],
   "metadata": {
    "collapsed": false,
    "ExecuteTime": {
     "end_time": "2024-05-08T05:10:58.812930Z",
     "start_time": "2024-05-08T05:10:58.565337Z"
    }
   },
   "id": "3d99edaca6000388",
   "execution_count": 131
  },
  {
   "cell_type": "code",
   "outputs": [],
   "source": [
    "train_data = {}\n",
    "test_data = {}\n",
    "validation_data = {}\n",
    "\n",
    "for first_level, second_level_dict in images_by_label.items():\n",
    "    train_data[first_level] = {}\n",
    "    validation_data[first_level] = {}\n",
    "    test_data[first_level] = {}\n",
    "    \n",
    "    for label, image_paths in second_level_dict.items():\n",
    "        temp_images, test_images = train_test_split(image_paths, test_size=0.2, random_state=42)\n",
    "        train_images, val_images = train_test_split(temp_images, test_size=0.2, random_state=42)\n",
    "        \n",
    "        # Save split data\n",
    "        train_data[first_level][label] = train_images\n",
    "        test_data[first_level][label] = test_images\n",
    "        validation_data[first_level][label] = val_images\n"
   ],
   "metadata": {
    "collapsed": false,
    "ExecuteTime": {
     "end_time": "2024-05-08T05:10:58.831609Z",
     "start_time": "2024-05-08T05:10:58.813938Z"
    }
   },
   "id": "4af5407217aac036",
   "execution_count": 132
  },
  {
   "cell_type": "code",
   "outputs": [],
   "source": [
    "def create_dataframe_for_16_class(data_dict):\n",
    "    rows = []\n",
    "    for first_level, second_level_dict in data_dict.items():\n",
    "        for label, image_paths in second_level_dict.items():\n",
    "            for path in image_paths:\n",
    "                rows.append({'ImagePath': path, 'Label': label})\n",
    "    return pd.DataFrame(rows)\n",
    "\n",
    "def create_dataframe_for_5_class(data_dict):\n",
    "    rows = []\n",
    "    for first_level, second_level_dict in data_dict.items():\n",
    "        for label, image_paths in second_level_dict.items():\n",
    "            for path in image_paths:\n",
    "                rows.append({'ImagePath': path, 'Label': first_level})\n",
    "    return pd.DataFrame(rows)\n",
    "\n",
    "train_df = create_dataframe_for_16_class(train_data)\n",
    "test_df = create_dataframe_for_16_class(test_data)\n",
    "validation_df = create_dataframe_for_16_class(validation_data)"
   ],
   "metadata": {
    "collapsed": false,
    "ExecuteTime": {
     "end_time": "2024-05-08T05:10:58.840561Z",
     "start_time": "2024-05-08T05:10:58.832624Z"
    }
   },
   "id": "81bb5a737570cec9",
   "execution_count": 133
  },
  {
   "cell_type": "code",
   "outputs": [],
   "source": [
    "batch_size = 64"
   ],
   "metadata": {
    "collapsed": false,
    "ExecuteTime": {
     "end_time": "2024-05-08T05:10:58.844543Z",
     "start_time": "2024-05-08T05:10:58.842185Z"
    }
   },
   "id": "c6b88c5bf5ffa53e",
   "execution_count": 134
  },
  {
   "cell_type": "code",
   "outputs": [
    {
     "name": "stdout",
     "output_type": "stream",
     "text": [
      "Found 2358 validated image filenames belonging to 16 classes.\n",
      "Found 596 validated image filenames belonging to 16 classes.\n",
      "Found 745 validated image filenames belonging to 16 classes.\n"
     ]
    }
   ],
   "source": [
    "train_datagen = tf.keras.preprocessing.image.ImageDataGenerator(rescale=1./255)\n",
    "val_datagen = tf.keras.preprocessing.image.ImageDataGenerator(rescale=1./255)\n",
    "test_datagen = tf.keras.preprocessing.image.ImageDataGenerator(rescale=1./255)\n",
    "\n",
    "train_generator = train_datagen.flow_from_dataframe(\n",
    "    dataframe=train_df,\n",
    "    x_col='ImagePath',\n",
    "    y_col='Label',\n",
    "    color_mode='grayscale',\n",
    "    target_size=(28, 28),  \n",
    "    batch_size=batch_size,\n",
    "    class_mode='categorical',  # 如果是多分类问题\n",
    "    shuffle=True\n",
    ")\n",
    "\n",
    "val_generator = val_datagen.flow_from_dataframe(\n",
    "    dataframe=validation_df,\n",
    "    x_col='ImagePath',\n",
    "    y_col='Label',\n",
    "    color_mode='grayscale',\n",
    "    target_size=(28, 28),\n",
    "    batch_size=batch_size,\n",
    "    class_mode='categorical',  # 如果是多分类问题\n",
    "    shuffle=False\n",
    ")\n",
    "\n",
    "test_generator = test_datagen.flow_from_dataframe(\n",
    "    dataframe=test_df,\n",
    "    x_col='ImagePath',\n",
    "    y_col='Label',\n",
    "    color_mode='grayscale',\n",
    "    target_size=(28, 28),\n",
    "    batch_size=batch_size,\n",
    "    class_mode='categorical',  # 如果是多分类问题\n",
    "    shuffle=False\n",
    ")"
   ],
   "metadata": {
    "collapsed": false,
    "ExecuteTime": {
     "end_time": "2024-05-08T05:10:58.887632Z",
     "start_time": "2024-05-08T05:10:58.845306Z"
    }
   },
   "id": "884e9e93d868f8e7",
   "execution_count": 135
  },
  {
   "cell_type": "markdown",
   "source": [
    "## Transfer data to suit scikit-learn"
   ],
   "metadata": {
    "collapsed": false
   },
   "id": "877454311e7768fa"
  },
  {
   "cell_type": "code",
   "outputs": [],
   "source": [
    "import numpy as np\n",
    "\n",
    "def get_data_from_generator(generator):\n",
    "    batches = []\n",
    "    labels = []\n",
    "    # 迭代生成器收集数据和标签\n",
    "    for batch, label in generator:\n",
    "        batches.append(batch)\n",
    "        labels.append(label)\n",
    "        if len(batches) >= len(generator):\n",
    "            break  # 确保不会无限迭代\n",
    "    return np.vstack(batches), np.vstack(labels)\n",
    "\n",
    "\n",
    "X_train, y_train = get_data_from_generator(train_generator)\n",
    "X_val, y_val = get_data_from_generator(val_generator)\n",
    "X_test, y_test = get_data_from_generator(test_generator)"
   ],
   "metadata": {
    "collapsed": false,
    "ExecuteTime": {
     "end_time": "2024-05-08T05:10:59.147975Z",
     "start_time": "2024-05-08T05:10:58.888384Z"
    }
   },
   "id": "5f10df176fc1dd9f",
   "execution_count": 136
  },
  {
   "cell_type": "markdown",
   "source": [
    "## Decision Tree"
   ],
   "metadata": {
    "collapsed": false
   },
   "id": "1209cf946c70c032"
  },
  {
   "cell_type": "code",
   "outputs": [
    {
     "name": "stdout",
     "output_type": "stream",
     "text": [
      "Epoch 1/50 - max_depth: 10 - val_accuracy: 0.7651\n",
      "Epoch 2/50 - max_depth: 13 - val_accuracy: 0.7869\n",
      "Epoch 3/50 - max_depth: 17 - val_accuracy: 0.8003\n",
      "Epoch 4/50 - max_depth: 21 - val_accuracy: 0.7852\n",
      "Epoch 5/50 - max_depth: 25 - val_accuracy: 0.7886\n",
      "Epoch 6/50 - max_depth: 29 - val_accuracy: 0.7836\n",
      "Epoch 7/50 - max_depth: 32 - val_accuracy: 0.7936\n",
      "Epoch 8/50 - max_depth: 36 - val_accuracy: 0.7819\n",
      "Epoch 9/50 - max_depth: 40 - val_accuracy: 0.7819\n",
      "Epoch 10/50 - max_depth: 44 - val_accuracy: 0.7903\n",
      "Epoch 11/50 - max_depth: 48 - val_accuracy: 0.7819\n",
      "Epoch 12/50 - max_depth: 51 - val_accuracy: 0.7936\n",
      "Epoch 13/50 - max_depth: 55 - val_accuracy: 0.7886\n",
      "Epoch 14/50 - max_depth: 59 - val_accuracy: 0.7785\n",
      "Epoch 15/50 - max_depth: 63 - val_accuracy: 0.7768\n",
      "Epoch 16/50 - max_depth: 67 - val_accuracy: 0.7836\n",
      "Epoch 17/50 - max_depth: 70 - val_accuracy: 0.7953\n",
      "Epoch 18/50 - max_depth: 74 - val_accuracy: 0.7718\n",
      "Epoch 19/50 - max_depth: 78 - val_accuracy: 0.7836\n",
      "Epoch 20/50 - max_depth: 82 - val_accuracy: 0.7886\n",
      "Epoch 21/50 - max_depth: 86 - val_accuracy: 0.7919\n",
      "Epoch 22/50 - max_depth: 89 - val_accuracy: 0.7886\n",
      "Epoch 23/50 - max_depth: 93 - val_accuracy: 0.7886\n",
      "Epoch 24/50 - max_depth: 97 - val_accuracy: 0.7819\n",
      "Epoch 25/50 - max_depth: 101 - val_accuracy: 0.7936\n",
      "Epoch 26/50 - max_depth: 105 - val_accuracy: 0.7987\n",
      "Epoch 27/50 - max_depth: 108 - val_accuracy: 0.8070\n",
      "Epoch 28/50 - max_depth: 112 - val_accuracy: 0.8003\n",
      "Epoch 29/50 - max_depth: 116 - val_accuracy: 0.7886\n",
      "Epoch 30/50 - max_depth: 120 - val_accuracy: 0.7886\n",
      "Epoch 31/50 - max_depth: 124 - val_accuracy: 0.8003\n",
      "Epoch 32/50 - max_depth: 127 - val_accuracy: 0.7735\n",
      "Epoch 33/50 - max_depth: 131 - val_accuracy: 0.7836\n",
      "Epoch 34/50 - max_depth: 135 - val_accuracy: 0.7936\n",
      "Epoch 35/50 - max_depth: 139 - val_accuracy: 0.7718\n",
      "Epoch 36/50 - max_depth: 143 - val_accuracy: 0.7802\n",
      "Epoch 37/50 - max_depth: 146 - val_accuracy: 0.7886\n",
      "Epoch 38/50 - max_depth: 150 - val_accuracy: 0.7852\n",
      "Epoch 39/50 - max_depth: 154 - val_accuracy: 0.7886\n",
      "Epoch 40/50 - max_depth: 158 - val_accuracy: 0.7903\n",
      "Epoch 41/50 - max_depth: 162 - val_accuracy: 0.7836\n",
      "Epoch 42/50 - max_depth: 165 - val_accuracy: 0.7903\n",
      "Epoch 43/50 - max_depth: 169 - val_accuracy: 0.7936\n",
      "Epoch 44/50 - max_depth: 173 - val_accuracy: 0.7919\n",
      "Epoch 45/50 - max_depth: 177 - val_accuracy: 0.7852\n",
      "Epoch 46/50 - max_depth: 181 - val_accuracy: 0.7987\n",
      "Epoch 47/50 - max_depth: 184 - val_accuracy: 0.7785\n",
      "Epoch 48/50 - max_depth: 188 - val_accuracy: 0.7819\n",
      "Epoch 49/50 - max_depth: 192 - val_accuracy: 0.7919\n",
      "Epoch 50/50 - max_depth: 196 - val_accuracy: 0.7936\n"
     ]
    }
   ],
   "source": [
    "from sklearn.tree import DecisionTreeClassifier\n",
    "from sklearn.metrics import accuracy_score\n",
    "import numpy as np\n",
    "\n",
    "# 假设数据提取和重塑代码已经运行\n",
    "X_train, y_train = get_data_from_generator(train_generator)\n",
    "X_train = X_train.reshape(X_train.shape[0], -1)\n",
    "\n",
    "X_val, y_val = get_data_from_generator(val_generator)\n",
    "X_val = X_val.reshape(X_val.shape[0], -1)\n",
    "\n",
    "n_epochs = 50  # 设置模拟的迭代次数\n",
    "max_depth_start = 10  # 开始的最大深度\n",
    "max_depth_end = 200  # 结束的最大深度\n",
    "\n",
    "for epoch in range(n_epochs):\n",
    "    # 计算当前epoch的max_depth\n",
    "    current_max_depth = max_depth_start + (max_depth_end - max_depth_start) * epoch // n_epochs\n",
    "    \n",
    "    # 训练决策树模型\n",
    "    tree_model = DecisionTreeClassifier(max_depth=current_max_depth)\n",
    "    tree_model.fit(X_train, y_train)\n",
    "    \n",
    "    # 在验证集上评估模型\n",
    "    y_pred_val = tree_model.predict(X_val)\n",
    "    val_accuracy = accuracy_score(y_val, y_pred_val)\n",
    "    \n",
    "    # 打印类似于深度学习训练输出的信息\n",
    "    print(f\"Epoch {epoch + 1}/{n_epochs} - max_depth: {current_max_depth} - val_accuracy: {val_accuracy:.4f}\")\n"
   ],
   "metadata": {
    "collapsed": false,
    "ExecuteTime": {
     "end_time": "2024-05-08T05:11:58.690905Z",
     "start_time": "2024-05-08T05:10:59.148893Z"
    }
   },
   "id": "7895d92f233236fd",
   "execution_count": 137
  },
  {
   "cell_type": "markdown",
   "source": [
    "## Random Forest"
   ],
   "metadata": {
    "collapsed": false
   },
   "id": "75f95aefd73120a"
  },
  {
   "cell_type": "code",
   "outputs": [
    {
     "name": "stdout",
     "output_type": "stream",
     "text": [
      "Validation Accuracy: 0.7449664429530202\n"
     ]
    }
   ],
   "source": [
    "from sklearn.ensemble import RandomForestClassifier\n",
    "from sklearn.metrics import accuracy_score\n",
    "\n",
    "n_epochs = 50  # 设置迭代次数\n",
    "for epoch in range(n_epochs):\n",
    "    rf_model = RandomForestClassifier(n_estimators=100, max_depth=10, random_state=epoch)\n",
    "    rf_model.fit(X_train, y_train)\n",
    "    y_pred_val = rf_model.predict(X_val)\n",
    "    val_accuracy = accuracy_score(y_val, y_pred_val)\n",
    "print(\"Validation Accuracy:\", accuracy_score(y_val, y_pred_val))"
   ],
   "metadata": {
    "collapsed": false,
    "ExecuteTime": {
     "end_time": "2024-05-08T05:14:37.929687Z",
     "start_time": "2024-05-08T05:11:58.691988Z"
    }
   },
   "id": "f821800acc59950",
   "execution_count": 138
  },
  {
   "cell_type": "markdown",
   "source": [
    "## SVM"
   ],
   "metadata": {
    "collapsed": false
   },
   "id": "55b54b0bc5e17795"
  },
  {
   "cell_type": "code",
   "outputs": [
    {
     "name": "stderr",
     "output_type": "stream",
     "text": [
      "/Users/tianbai/anaconda3/envs/DL/lib/python3.10/site-packages/sklearn/svm/_base.py:297: ConvergenceWarning: Solver terminated early (max_iter=200).  Consider pre-processing your data with StandardScaler or MinMaxScaler.\n",
      "  warnings.warn(\n"
     ]
    },
    {
     "name": "stdout",
     "output_type": "stream",
     "text": [
      "Validation Accuracy: 0.9379194630872483\n"
     ]
    }
   ],
   "source": [
    "import numpy as np\n",
    "from sklearn.svm import SVC\n",
    "from sklearn.preprocessing import StandardScaler\n",
    "from sklearn.metrics import accuracy_score\n",
    "\n",
    "# 假设 y_train 和 y_val 是 one-hot 编码的，形状为 (样本数, 类别数)\n",
    "y_train = np.argmax(y_train, axis=1)\n",
    "y_val = np.argmax(y_val, axis=1)\n",
    "\n",
    "# 初始化并应用标准化\n",
    "scaler = StandardScaler()\n",
    "X_train_scaled = scaler.fit_transform(X_train)\n",
    "X_val_scaled = scaler.transform(X_val)\n",
    "\n",
    "# 初始化 SVM 模型\n",
    "svm_model = SVC(kernel='rbf', C=1.0, gamma='auto', max_iter=200)\n",
    "\n",
    "# 训练 SVM 模型\n",
    "svm_model.fit(X_train_scaled, y_train)\n",
    "\n",
    "# 在验证集上评估 SVM 模型\n",
    "y_pred_val = svm_model.predict(X_val_scaled)\n",
    "print(\"Validation Accuracy:\", accuracy_score(y_val, y_pred_val))\n"
   ],
   "metadata": {
    "collapsed": false,
    "ExecuteTime": {
     "end_time": "2024-05-08T05:14:39.171597Z",
     "start_time": "2024-05-08T05:14:37.930894Z"
    }
   },
   "id": "5f11ad80c53197d6",
   "execution_count": 139
  },
  {
   "cell_type": "markdown",
   "source": [
    "## MLP Baseline Model for Multi-class Task\n"
   ],
   "metadata": {
    "collapsed": false
   },
   "id": "fcdf7a88a258cb20"
  },
  {
   "cell_type": "code",
   "outputs": [],
   "source": [
    "num_classes = 16\n",
    "input_shape = (28, 28)\n",
    "baseline_categorical = tf.keras.models.Sequential([\n",
    "    tf.keras.Input(shape=input_shape),\n",
    "    tf.keras.layers.Flatten(),\n",
    "    tf.keras.layers.Dense(512, activation='relu'),\n",
    "    tf.keras.layers.Dense(num_classes, activation='softmax')\n",
    "])"
   ],
   "metadata": {
    "collapsed": false,
    "ExecuteTime": {
     "end_time": "2024-05-08T05:14:39.311633Z",
     "start_time": "2024-05-08T05:14:39.173878Z"
    }
   },
   "id": "a6180087b0d2f017",
   "execution_count": 140
  },
  {
   "cell_type": "code",
   "outputs": [],
   "source": [
    "baseline_categorical.compile(loss='binary_crossentropy',\n",
    "                        optimizer=tf.keras.optimizers.Adam(),\n",
    "                        metrics=['accuracy'])"
   ],
   "metadata": {
    "collapsed": false,
    "ExecuteTime": {
     "end_time": "2024-05-08T05:14:39.319137Z",
     "start_time": "2024-05-08T05:14:39.312568Z"
    }
   },
   "id": "ff80e05c52d755ba",
   "execution_count": 141
  },
  {
   "cell_type": "code",
   "outputs": [
    {
     "name": "stdout",
     "output_type": "stream",
     "text": [
      "Epoch 1/50\n"
     ]
    },
    {
     "name": "stderr",
     "output_type": "stream",
     "text": [
      "/Users/tianbai/anaconda3/envs/DL/lib/python3.10/site-packages/keras/src/trainers/data_adapters/py_dataset_adapter.py:120: UserWarning: Your `PyDataset` class should call `super().__init__(**kwargs)` in its constructor. `**kwargs` can include `workers`, `use_multiprocessing`, `max_queue_size`. Do not pass these arguments to `fit()`, as they will be ignored.\n",
      "  self._warn_if_super_not_called()\n"
     ]
    },
    {
     "name": "stdout",
     "output_type": "stream",
     "text": [
      "\u001B[1m37/37\u001B[0m \u001B[32m━━━━━━━━━━━━━━━━━━━━\u001B[0m\u001B[37m\u001B[0m \u001B[1m2s\u001B[0m 38ms/step - accuracy: 0.2303 - loss: 0.3156 - val_accuracy: 0.5403 - val_loss: 0.1687\n",
      "Epoch 2/50\n",
      "\u001B[1m37/37\u001B[0m \u001B[32m━━━━━━━━━━━━━━━━━━━━\u001B[0m\u001B[37m\u001B[0m \u001B[1m1s\u001B[0m 13ms/step - accuracy: 0.6071 - loss: 0.1572 - val_accuracy: 0.7617 - val_loss: 0.1211\n",
      "Epoch 3/50\n",
      "\u001B[1m37/37\u001B[0m \u001B[32m━━━━━━━━━━━━━━━━━━━━\u001B[0m\u001B[37m\u001B[0m \u001B[1m1s\u001B[0m 14ms/step - accuracy: 0.7540 - loss: 0.1187 - val_accuracy: 0.8389 - val_loss: 0.0986\n",
      "Epoch 4/50\n",
      "\u001B[1m37/37\u001B[0m \u001B[32m━━━━━━━━━━━━━━━━━━━━\u001B[0m\u001B[37m\u001B[0m \u001B[1m1s\u001B[0m 14ms/step - accuracy: 0.8096 - loss: 0.0979 - val_accuracy: 0.8490 - val_loss: 0.0854\n",
      "Epoch 5/50\n",
      "\u001B[1m37/37\u001B[0m \u001B[32m━━━━━━━━━━━━━━━━━━━━\u001B[0m\u001B[37m\u001B[0m \u001B[1m1s\u001B[0m 14ms/step - accuracy: 0.8442 - loss: 0.0849 - val_accuracy: 0.8758 - val_loss: 0.0730\n",
      "Epoch 6/50\n",
      "\u001B[1m37/37\u001B[0m \u001B[32m━━━━━━━━━━━━━━━━━━━━\u001B[0m\u001B[37m\u001B[0m \u001B[1m1s\u001B[0m 14ms/step - accuracy: 0.8842 - loss: 0.0715 - val_accuracy: 0.8792 - val_loss: 0.0669\n",
      "Epoch 7/50\n",
      "\u001B[1m37/37\u001B[0m \u001B[32m━━━━━━━━━━━━━━━━━━━━\u001B[0m\u001B[37m\u001B[0m \u001B[1m1s\u001B[0m 13ms/step - accuracy: 0.9037 - loss: 0.0604 - val_accuracy: 0.9128 - val_loss: 0.0594\n",
      "Epoch 8/50\n",
      "\u001B[1m37/37\u001B[0m \u001B[32m━━━━━━━━━━━━━━━━━━━━\u001B[0m\u001B[37m\u001B[0m \u001B[1m1s\u001B[0m 14ms/step - accuracy: 0.9151 - loss: 0.0584 - val_accuracy: 0.9211 - val_loss: 0.0546\n",
      "Epoch 9/50\n",
      "\u001B[1m37/37\u001B[0m \u001B[32m━━━━━━━━━━━━━━━━━━━━\u001B[0m\u001B[37m\u001B[0m \u001B[1m1s\u001B[0m 14ms/step - accuracy: 0.9113 - loss: 0.0541 - val_accuracy: 0.9245 - val_loss: 0.0495\n",
      "Epoch 10/50\n",
      "\u001B[1m37/37\u001B[0m \u001B[32m━━━━━━━━━━━━━━━━━━━━\u001B[0m\u001B[37m\u001B[0m \u001B[1m1s\u001B[0m 13ms/step - accuracy: 0.9302 - loss: 0.0484 - val_accuracy: 0.9211 - val_loss: 0.0466\n",
      "Epoch 11/50\n",
      "\u001B[1m37/37\u001B[0m \u001B[32m━━━━━━━━━━━━━━━━━━━━\u001B[0m\u001B[37m\u001B[0m \u001B[1m1s\u001B[0m 13ms/step - accuracy: 0.9354 - loss: 0.0440 - val_accuracy: 0.9195 - val_loss: 0.0482\n",
      "Epoch 12/50\n",
      "\u001B[1m37/37\u001B[0m \u001B[32m━━━━━━━━━━━━━━━━━━━━\u001B[0m\u001B[37m\u001B[0m \u001B[1m1s\u001B[0m 13ms/step - accuracy: 0.9403 - loss: 0.0412 - val_accuracy: 0.9279 - val_loss: 0.0427\n",
      "Epoch 13/50\n",
      "\u001B[1m37/37\u001B[0m \u001B[32m━━━━━━━━━━━━━━━━━━━━\u001B[0m\u001B[37m\u001B[0m \u001B[1m1s\u001B[0m 13ms/step - accuracy: 0.9451 - loss: 0.0379 - val_accuracy: 0.9480 - val_loss: 0.0393\n",
      "Epoch 14/50\n",
      "\u001B[1m37/37\u001B[0m \u001B[32m━━━━━━━━━━━━━━━━━━━━\u001B[0m\u001B[37m\u001B[0m \u001B[1m1s\u001B[0m 14ms/step - accuracy: 0.9541 - loss: 0.0345 - val_accuracy: 0.9446 - val_loss: 0.0373\n",
      "Epoch 15/50\n",
      "\u001B[1m37/37\u001B[0m \u001B[32m━━━━━━━━━━━━━━━━━━━━\u001B[0m\u001B[37m\u001B[0m \u001B[1m1s\u001B[0m 13ms/step - accuracy: 0.9579 - loss: 0.0300 - val_accuracy: 0.9446 - val_loss: 0.0345\n",
      "Epoch 16/50\n",
      "\u001B[1m37/37\u001B[0m \u001B[32m━━━━━━━━━━━━━━━━━━━━\u001B[0m\u001B[37m\u001B[0m \u001B[1m1s\u001B[0m 13ms/step - accuracy: 0.9606 - loss: 0.0291 - val_accuracy: 0.9463 - val_loss: 0.0335\n",
      "Epoch 17/50\n",
      "\u001B[1m37/37\u001B[0m \u001B[32m━━━━━━━━━━━━━━━━━━━━\u001B[0m\u001B[37m\u001B[0m \u001B[1m1s\u001B[0m 13ms/step - accuracy: 0.9630 - loss: 0.0279 - val_accuracy: 0.9530 - val_loss: 0.0322\n",
      "Epoch 18/50\n",
      "\u001B[1m37/37\u001B[0m \u001B[32m━━━━━━━━━━━━━━━━━━━━\u001B[0m\u001B[37m\u001B[0m \u001B[1m1s\u001B[0m 13ms/step - accuracy: 0.9611 - loss: 0.0264 - val_accuracy: 0.9480 - val_loss: 0.0306\n",
      "Epoch 19/50\n",
      "\u001B[1m37/37\u001B[0m \u001B[32m━━━━━━━━━━━━━━━━━━━━\u001B[0m\u001B[37m\u001B[0m \u001B[1m1s\u001B[0m 13ms/step - accuracy: 0.9670 - loss: 0.0250 - val_accuracy: 0.9530 - val_loss: 0.0301\n",
      "Epoch 20/50\n",
      "\u001B[1m37/37\u001B[0m \u001B[32m━━━━━━━━━━━━━━━━━━━━\u001B[0m\u001B[37m\u001B[0m \u001B[1m1s\u001B[0m 13ms/step - accuracy: 0.9733 - loss: 0.0228 - val_accuracy: 0.9513 - val_loss: 0.0297\n",
      "Epoch 21/50\n",
      "\u001B[1m37/37\u001B[0m \u001B[32m━━━━━━━━━━━━━━━━━━━━\u001B[0m\u001B[37m\u001B[0m \u001B[1m1s\u001B[0m 13ms/step - accuracy: 0.9704 - loss: 0.0218 - val_accuracy: 0.9564 - val_loss: 0.0271\n",
      "Epoch 22/50\n",
      "\u001B[1m37/37\u001B[0m \u001B[32m━━━━━━━━━━━━━━━━━━━━\u001B[0m\u001B[37m\u001B[0m \u001B[1m1s\u001B[0m 13ms/step - accuracy: 0.9761 - loss: 0.0191 - val_accuracy: 0.9581 - val_loss: 0.0268\n",
      "Epoch 23/50\n",
      "\u001B[1m37/37\u001B[0m \u001B[32m━━━━━━━━━━━━━━━━━━━━\u001B[0m\u001B[37m\u001B[0m \u001B[1m1s\u001B[0m 13ms/step - accuracy: 0.9825 - loss: 0.0176 - val_accuracy: 0.9396 - val_loss: 0.0282\n",
      "Epoch 24/50\n",
      "\u001B[1m37/37\u001B[0m \u001B[32m━━━━━━━━━━━━━━━━━━━━\u001B[0m\u001B[37m\u001B[0m \u001B[1m1s\u001B[0m 12ms/step - accuracy: 0.9805 - loss: 0.0174 - val_accuracy: 0.9530 - val_loss: 0.0262\n",
      "Epoch 25/50\n",
      "\u001B[1m37/37\u001B[0m \u001B[32m━━━━━━━━━━━━━━━━━━━━\u001B[0m\u001B[37m\u001B[0m \u001B[1m1s\u001B[0m 13ms/step - accuracy: 0.9832 - loss: 0.0167 - val_accuracy: 0.9530 - val_loss: 0.0250\n",
      "Epoch 26/50\n",
      "\u001B[1m37/37\u001B[0m \u001B[32m━━━━━━━━━━━━━━━━━━━━\u001B[0m\u001B[37m\u001B[0m \u001B[1m1s\u001B[0m 13ms/step - accuracy: 0.9793 - loss: 0.0160 - val_accuracy: 0.9581 - val_loss: 0.0241\n",
      "Epoch 27/50\n",
      "\u001B[1m37/37\u001B[0m \u001B[32m━━━━━━━━━━━━━━━━━━━━\u001B[0m\u001B[37m\u001B[0m \u001B[1m0s\u001B[0m 12ms/step - accuracy: 0.9807 - loss: 0.0153 - val_accuracy: 0.9547 - val_loss: 0.0230\n",
      "Epoch 28/50\n",
      "\u001B[1m37/37\u001B[0m \u001B[32m━━━━━━━━━━━━━━━━━━━━\u001B[0m\u001B[37m\u001B[0m \u001B[1m1s\u001B[0m 13ms/step - accuracy: 0.9904 - loss: 0.0135 - val_accuracy: 0.9564 - val_loss: 0.0258\n",
      "Epoch 29/50\n",
      "\u001B[1m37/37\u001B[0m \u001B[32m━━━━━━━━━━━━━━━━━━━━\u001B[0m\u001B[37m\u001B[0m \u001B[1m1s\u001B[0m 12ms/step - accuracy: 0.9906 - loss: 0.0130 - val_accuracy: 0.9480 - val_loss: 0.0235\n",
      "Epoch 30/50\n",
      "\u001B[1m37/37\u001B[0m \u001B[32m━━━━━━━━━━━━━━━━━━━━\u001B[0m\u001B[37m\u001B[0m \u001B[1m1s\u001B[0m 15ms/step - accuracy: 0.9877 - loss: 0.0127 - val_accuracy: 0.9530 - val_loss: 0.0250\n",
      "Epoch 31/50\n",
      "\u001B[1m37/37\u001B[0m \u001B[32m━━━━━━━━━━━━━━━━━━━━\u001B[0m\u001B[37m\u001B[0m \u001B[1m0s\u001B[0m 12ms/step - accuracy: 0.9871 - loss: 0.0130 - val_accuracy: 0.9614 - val_loss: 0.0227\n",
      "Epoch 32/50\n",
      "\u001B[1m37/37\u001B[0m \u001B[32m━━━━━━━━━━━━━━━━━━━━\u001B[0m\u001B[37m\u001B[0m \u001B[1m1s\u001B[0m 13ms/step - accuracy: 0.9942 - loss: 0.0112 - val_accuracy: 0.9614 - val_loss: 0.0216\n",
      "Epoch 33/50\n",
      "\u001B[1m37/37\u001B[0m \u001B[32m━━━━━━━━━━━━━━━━━━━━\u001B[0m\u001B[37m\u001B[0m \u001B[1m0s\u001B[0m 12ms/step - accuracy: 0.9930 - loss: 0.0115 - val_accuracy: 0.9664 - val_loss: 0.0207\n",
      "Epoch 34/50\n",
      "\u001B[1m37/37\u001B[0m \u001B[32m━━━━━━━━━━━━━━━━━━━━\u001B[0m\u001B[37m\u001B[0m \u001B[1m1s\u001B[0m 13ms/step - accuracy: 0.9912 - loss: 0.0097 - val_accuracy: 0.9581 - val_loss: 0.0229\n",
      "Epoch 35/50\n",
      "\u001B[1m37/37\u001B[0m \u001B[32m━━━━━━━━━━━━━━━━━━━━\u001B[0m\u001B[37m\u001B[0m \u001B[1m1s\u001B[0m 13ms/step - accuracy: 0.9916 - loss: 0.0101 - val_accuracy: 0.9614 - val_loss: 0.0210\n",
      "Epoch 36/50\n",
      "\u001B[1m37/37\u001B[0m \u001B[32m━━━━━━━━━━━━━━━━━━━━\u001B[0m\u001B[37m\u001B[0m \u001B[1m1s\u001B[0m 13ms/step - accuracy: 0.9944 - loss: 0.0087 - val_accuracy: 0.9614 - val_loss: 0.0207\n",
      "Epoch 37/50\n",
      "\u001B[1m37/37\u001B[0m \u001B[32m━━━━━━━━━━━━━━━━━━━━\u001B[0m\u001B[37m\u001B[0m \u001B[1m0s\u001B[0m 12ms/step - accuracy: 0.9928 - loss: 0.0086 - val_accuracy: 0.9631 - val_loss: 0.0203\n",
      "Epoch 38/50\n",
      "\u001B[1m37/37\u001B[0m \u001B[32m━━━━━━━━━━━━━━━━━━━━\u001B[0m\u001B[37m\u001B[0m \u001B[1m1s\u001B[0m 13ms/step - accuracy: 0.9913 - loss: 0.0089 - val_accuracy: 0.9631 - val_loss: 0.0201\n",
      "Epoch 39/50\n",
      "\u001B[1m37/37\u001B[0m \u001B[32m━━━━━━━━━━━━━━━━━━━━\u001B[0m\u001B[37m\u001B[0m \u001B[1m0s\u001B[0m 12ms/step - accuracy: 0.9974 - loss: 0.0077 - val_accuracy: 0.9581 - val_loss: 0.0207\n",
      "Epoch 40/50\n",
      "\u001B[1m37/37\u001B[0m \u001B[32m━━━━━━━━━━━━━━━━━━━━\u001B[0m\u001B[37m\u001B[0m \u001B[1m0s\u001B[0m 12ms/step - accuracy: 0.9951 - loss: 0.0074 - val_accuracy: 0.9581 - val_loss: 0.0199\n",
      "Epoch 41/50\n",
      "\u001B[1m37/37\u001B[0m \u001B[32m━━━━━━━━━━━━━━━━━━━━\u001B[0m\u001B[37m\u001B[0m \u001B[1m1s\u001B[0m 12ms/step - accuracy: 0.9960 - loss: 0.0073 - val_accuracy: 0.9631 - val_loss: 0.0189\n",
      "Epoch 42/50\n",
      "\u001B[1m37/37\u001B[0m \u001B[32m━━━━━━━━━━━━━━━━━━━━\u001B[0m\u001B[37m\u001B[0m \u001B[1m0s\u001B[0m 12ms/step - accuracy: 0.9950 - loss: 0.0065 - val_accuracy: 0.9597 - val_loss: 0.0198\n",
      "Epoch 43/50\n",
      "\u001B[1m37/37\u001B[0m \u001B[32m━━━━━━━━━━━━━━━━━━━━\u001B[0m\u001B[37m\u001B[0m \u001B[1m0s\u001B[0m 12ms/step - accuracy: 0.9980 - loss: 0.0062 - val_accuracy: 0.9664 - val_loss: 0.0199\n",
      "Epoch 44/50\n",
      "\u001B[1m37/37\u001B[0m \u001B[32m━━━━━━━━━━━━━━━━━━━━\u001B[0m\u001B[37m\u001B[0m \u001B[1m0s\u001B[0m 12ms/step - accuracy: 0.9986 - loss: 0.0058 - val_accuracy: 0.9631 - val_loss: 0.0203\n",
      "Epoch 45/50\n",
      "\u001B[1m37/37\u001B[0m \u001B[32m━━━━━━━━━━━━━━━━━━━━\u001B[0m\u001B[37m\u001B[0m \u001B[1m0s\u001B[0m 12ms/step - accuracy: 0.9978 - loss: 0.0058 - val_accuracy: 0.9581 - val_loss: 0.0219\n",
      "Epoch 46/50\n",
      "\u001B[1m37/37\u001B[0m \u001B[32m━━━━━━━━━━━━━━━━━━━━\u001B[0m\u001B[37m\u001B[0m \u001B[1m0s\u001B[0m 12ms/step - accuracy: 0.9984 - loss: 0.0056 - val_accuracy: 0.9631 - val_loss: 0.0187\n",
      "Epoch 47/50\n",
      "\u001B[1m37/37\u001B[0m \u001B[32m━━━━━━━━━━━━━━━━━━━━\u001B[0m\u001B[37m\u001B[0m \u001B[1m0s\u001B[0m 12ms/step - accuracy: 0.9975 - loss: 0.0070 - val_accuracy: 0.9597 - val_loss: 0.0190\n",
      "Epoch 48/50\n",
      "\u001B[1m37/37\u001B[0m \u001B[32m━━━━━━━━━━━━━━━━━━━━\u001B[0m\u001B[37m\u001B[0m \u001B[1m0s\u001B[0m 12ms/step - accuracy: 0.9978 - loss: 0.0050 - val_accuracy: 0.9648 - val_loss: 0.0181\n",
      "Epoch 49/50\n",
      "\u001B[1m37/37\u001B[0m \u001B[32m━━━━━━━━━━━━━━━━━━━━\u001B[0m\u001B[37m\u001B[0m \u001B[1m0s\u001B[0m 12ms/step - accuracy: 0.9980 - loss: 0.0048 - val_accuracy: 0.9631 - val_loss: 0.0185\n",
      "Epoch 50/50\n",
      "\u001B[1m37/37\u001B[0m \u001B[32m━━━━━━━━━━━━━━━━━━━━\u001B[0m\u001B[37m\u001B[0m \u001B[1m0s\u001B[0m 12ms/step - accuracy: 0.9984 - loss: 0.0047 - val_accuracy: 0.9648 - val_loss: 0.0203\n"
     ]
    }
   ],
   "source": [
    "epochs = 50\n",
    "history_baseline_categorical = baseline_categorical.fit(\n",
    "    train_generator,\n",
    "    validation_data=val_generator,\n",
    "    epochs=epochs\n",
    ")"
   ],
   "metadata": {
    "collapsed": false,
    "ExecuteTime": {
     "end_time": "2024-05-08T05:15:07.205193Z",
     "start_time": "2024-05-08T05:14:39.319925Z"
    }
   },
   "id": "62f364fc639515de",
   "execution_count": 142
  },
  {
   "cell_type": "markdown",
   "source": [
    "## MLP Baseline Model with difficult for Multi-class Task"
   ],
   "metadata": {
    "collapsed": false
   },
   "id": "ad50f039b6a03637"
  },
  {
   "cell_type": "code",
   "outputs": [
    {
     "name": "stdout",
     "output_type": "stream",
     "text": [
      "Found 2358 validated image filenames belonging to 16 classes.\n",
      "Found 596 validated image filenames belonging to 16 classes.\n",
      "Found 745 validated image filenames belonging to 16 classes.\n"
     ]
    }
   ],
   "source": [
    "train_datagen = tf.keras.preprocessing.image.ImageDataGenerator(\n",
    "    rescale=1./255,\n",
    "    rotation_range=30,  # 旋转范围（角度），可以调整范围，如 20-40\n",
    "    width_shift_range=0.1,  # 横向平移范围\n",
    "    height_shift_range=0.1,  # 纵向平移范围\n",
    "    shear_range=0.1,  # 剪切范围\n",
    "    zoom_range=0.1,  # 缩放范围\n",
    "    horizontal_flip=True,  # 水平翻转\n",
    ")\n",
    "val_datagen = tf.keras.preprocessing.image.ImageDataGenerator(rescale=1./255)\n",
    "test_datagen = tf.keras.preprocessing.image.ImageDataGenerator(rescale=1./255)\n",
    "\n",
    "train_generator = train_datagen.flow_from_dataframe(\n",
    "    dataframe=train_df,\n",
    "    x_col='ImagePath',\n",
    "    y_col='Label',\n",
    "    color_mode='grayscale',\n",
    "    target_size=(28, 28),\n",
    "    batch_size=batch_size,\n",
    "    class_mode='categorical',\n",
    "    shuffle=True\n",
    ")\n",
    "\n",
    "val_generator = val_datagen.flow_from_dataframe(\n",
    "    dataframe=validation_df,\n",
    "    x_col='ImagePath',\n",
    "    y_col='Label',\n",
    "    color_mode='grayscale',\n",
    "    target_size=(28, 28),\n",
    "    batch_size=batch_size,\n",
    "    class_mode='categorical',\n",
    "    shuffle=False\n",
    ")\n",
    "\n",
    "test_generator = test_datagen.flow_from_dataframe(\n",
    "    dataframe=test_df,\n",
    "    x_col='ImagePath',\n",
    "    y_col='Label',\n",
    "    color_mode='grayscale',\n",
    "    target_size=(28, 28),\n",
    "    batch_size=batch_size,\n",
    "    class_mode='categorical',  \n",
    "    shuffle=False\n",
    ")"
   ],
   "metadata": {
    "collapsed": false,
    "ExecuteTime": {
     "end_time": "2024-05-08T05:15:07.251983Z",
     "start_time": "2024-05-08T05:15:07.205942Z"
    }
   },
   "id": "f47c7851a1f2174",
   "execution_count": 143
  },
  {
   "cell_type": "code",
   "outputs": [],
   "source": [
    "num_classes = 16\n",
    "input_shape = (28, 28)\n",
    "baseline_categorical = tf.keras.models.Sequential([\n",
    "    tf.keras.Input(shape=input_shape),\n",
    "    tf.keras.layers.Flatten(),\n",
    "    tf.keras.layers.Dense(512, activation='relu'),\n",
    "    tf.keras.layers.Dense(num_classes, activation='softmax')\n",
    "])"
   ],
   "metadata": {
    "collapsed": false,
    "ExecuteTime": {
     "end_time": "2024-05-08T05:15:07.266183Z",
     "start_time": "2024-05-08T05:15:07.252779Z"
    }
   },
   "id": "f61501bd7fe5caae",
   "execution_count": 144
  },
  {
   "cell_type": "code",
   "outputs": [],
   "source": [
    "baseline_categorical.compile(loss='binary_crossentropy',\n",
    "                        optimizer=tf.keras.optimizers.Adam(),\n",
    "                        metrics=['accuracy'])"
   ],
   "metadata": {
    "collapsed": false,
    "ExecuteTime": {
     "end_time": "2024-05-08T05:15:07.271678Z",
     "start_time": "2024-05-08T05:15:07.266971Z"
    }
   },
   "id": "c611d24a60fadf75",
   "execution_count": 145
  },
  {
   "cell_type": "code",
   "outputs": [
    {
     "name": "stdout",
     "output_type": "stream",
     "text": [
      "Epoch 1/50\n"
     ]
    },
    {
     "name": "stderr",
     "output_type": "stream",
     "text": [
      "/Users/tianbai/anaconda3/envs/DL/lib/python3.10/site-packages/keras/src/trainers/data_adapters/py_dataset_adapter.py:120: UserWarning: Your `PyDataset` class should call `super().__init__(**kwargs)` in its constructor. `**kwargs` can include `workers`, `use_multiprocessing`, `max_queue_size`. Do not pass these arguments to `fit()`, as they will be ignored.\n",
      "  self._warn_if_super_not_called()\n"
     ]
    },
    {
     "name": "stdout",
     "output_type": "stream",
     "text": [
      "\u001B[1m37/37\u001B[0m \u001B[32m━━━━━━━━━━━━━━━━━━━━\u001B[0m\u001B[37m\u001B[0m \u001B[1m2s\u001B[0m 37ms/step - accuracy: 0.1757 - loss: 0.3277 - val_accuracy: 0.3289 - val_loss: 0.2124\n",
      "Epoch 2/50\n",
      "\u001B[1m37/37\u001B[0m \u001B[32m━━━━━━━━━━━━━━━━━━━━\u001B[0m\u001B[37m\u001B[0m \u001B[1m1s\u001B[0m 16ms/step - accuracy: 0.3031 - loss: 0.2188 - val_accuracy: 0.4698 - val_loss: 0.1860\n",
      "Epoch 3/50\n",
      "\u001B[1m37/37\u001B[0m \u001B[32m━━━━━━━━━━━━━━━━━━━━\u001B[0m\u001B[37m\u001B[0m \u001B[1m1s\u001B[0m 15ms/step - accuracy: 0.3694 - loss: 0.2032 - val_accuracy: 0.4446 - val_loss: 0.1756\n",
      "Epoch 4/50\n",
      "\u001B[1m37/37\u001B[0m \u001B[32m━━━━━━━━━━━━━━━━━━━━\u001B[0m\u001B[37m\u001B[0m \u001B[1m1s\u001B[0m 15ms/step - accuracy: 0.3915 - loss: 0.1939 - val_accuracy: 0.5621 - val_loss: 0.1596\n",
      "Epoch 5/50\n",
      "\u001B[1m37/37\u001B[0m \u001B[32m━━━━━━━━━━━━━━━━━━━━\u001B[0m\u001B[37m\u001B[0m \u001B[1m1s\u001B[0m 15ms/step - accuracy: 0.4407 - loss: 0.1841 - val_accuracy: 0.6074 - val_loss: 0.1469\n",
      "Epoch 6/50\n",
      "\u001B[1m37/37\u001B[0m \u001B[32m━━━━━━━━━━━━━━━━━━━━\u001B[0m\u001B[37m\u001B[0m \u001B[1m1s\u001B[0m 15ms/step - accuracy: 0.4357 - loss: 0.1820 - val_accuracy: 0.6191 - val_loss: 0.1434\n",
      "Epoch 7/50\n",
      "\u001B[1m37/37\u001B[0m \u001B[32m━━━━━━━━━━━━━━━━━━━━\u001B[0m\u001B[37m\u001B[0m \u001B[1m1s\u001B[0m 15ms/step - accuracy: 0.4985 - loss: 0.1717 - val_accuracy: 0.6577 - val_loss: 0.1381\n",
      "Epoch 8/50\n",
      "\u001B[1m37/37\u001B[0m \u001B[32m━━━━━━━━━━━━━━━━━━━━\u001B[0m\u001B[37m\u001B[0m \u001B[1m1s\u001B[0m 15ms/step - accuracy: 0.4976 - loss: 0.1682 - val_accuracy: 0.6946 - val_loss: 0.1318\n",
      "Epoch 9/50\n",
      "\u001B[1m37/37\u001B[0m \u001B[32m━━━━━━━━━━━━━━━━━━━━\u001B[0m\u001B[37m\u001B[0m \u001B[1m1s\u001B[0m 15ms/step - accuracy: 0.5321 - loss: 0.1622 - val_accuracy: 0.6678 - val_loss: 0.1302\n",
      "Epoch 10/50\n",
      "\u001B[1m37/37\u001B[0m \u001B[32m━━━━━━━━━━━━━━━━━━━━\u001B[0m\u001B[37m\u001B[0m \u001B[1m1s\u001B[0m 15ms/step - accuracy: 0.5114 - loss: 0.1619 - val_accuracy: 0.6896 - val_loss: 0.1256\n",
      "Epoch 11/50\n",
      "\u001B[1m37/37\u001B[0m \u001B[32m━━━━━━━━━━━━━━━━━━━━\u001B[0m\u001B[37m\u001B[0m \u001B[1m1s\u001B[0m 14ms/step - accuracy: 0.5223 - loss: 0.1639 - val_accuracy: 0.7047 - val_loss: 0.1227\n",
      "Epoch 12/50\n",
      "\u001B[1m37/37\u001B[0m \u001B[32m━━━━━━━━━━━━━━━━━━━━\u001B[0m\u001B[37m\u001B[0m \u001B[1m1s\u001B[0m 15ms/step - accuracy: 0.5488 - loss: 0.1553 - val_accuracy: 0.6628 - val_loss: 0.1228\n",
      "Epoch 13/50\n",
      "\u001B[1m37/37\u001B[0m \u001B[32m━━━━━━━━━━━━━━━━━━━━\u001B[0m\u001B[37m\u001B[0m \u001B[1m1s\u001B[0m 14ms/step - accuracy: 0.5058 - loss: 0.1613 - val_accuracy: 0.6879 - val_loss: 0.1187\n",
      "Epoch 14/50\n",
      "\u001B[1m37/37\u001B[0m \u001B[32m━━━━━━━━━━━━━━━━━━━━\u001B[0m\u001B[37m\u001B[0m \u001B[1m1s\u001B[0m 14ms/step - accuracy: 0.5627 - loss: 0.1487 - val_accuracy: 0.7181 - val_loss: 0.1145\n",
      "Epoch 15/50\n",
      "\u001B[1m37/37\u001B[0m \u001B[32m━━━━━━━━━━━━━━━━━━━━\u001B[0m\u001B[37m\u001B[0m \u001B[1m1s\u001B[0m 14ms/step - accuracy: 0.5660 - loss: 0.1482 - val_accuracy: 0.7215 - val_loss: 0.1110\n",
      "Epoch 16/50\n",
      "\u001B[1m37/37\u001B[0m \u001B[32m━━━━━━━━━━━━━━━━━━━━\u001B[0m\u001B[37m\u001B[0m \u001B[1m1s\u001B[0m 14ms/step - accuracy: 0.5598 - loss: 0.1465 - val_accuracy: 0.7248 - val_loss: 0.1069\n",
      "Epoch 17/50\n",
      "\u001B[1m37/37\u001B[0m \u001B[32m━━━━━━━━━━━━━━━━━━━━\u001B[0m\u001B[37m\u001B[0m \u001B[1m1s\u001B[0m 14ms/step - accuracy: 0.5745 - loss: 0.1433 - val_accuracy: 0.7383 - val_loss: 0.1049\n",
      "Epoch 18/50\n",
      "\u001B[1m37/37\u001B[0m \u001B[32m━━━━━━━━━━━━━━━━━━━━\u001B[0m\u001B[37m\u001B[0m \u001B[1m1s\u001B[0m 14ms/step - accuracy: 0.5778 - loss: 0.1445 - val_accuracy: 0.7114 - val_loss: 0.1076\n",
      "Epoch 19/50\n",
      "\u001B[1m37/37\u001B[0m \u001B[32m━━━━━━━━━━━━━━━━━━━━\u001B[0m\u001B[37m\u001B[0m \u001B[1m1s\u001B[0m 15ms/step - accuracy: 0.5583 - loss: 0.1439 - val_accuracy: 0.7265 - val_loss: 0.1023\n",
      "Epoch 20/50\n",
      "\u001B[1m37/37\u001B[0m \u001B[32m━━━━━━━━━━━━━━━━━━━━\u001B[0m\u001B[37m\u001B[0m \u001B[1m1s\u001B[0m 14ms/step - accuracy: 0.6115 - loss: 0.1335 - val_accuracy: 0.7534 - val_loss: 0.1004\n",
      "Epoch 21/50\n",
      "\u001B[1m37/37\u001B[0m \u001B[32m━━━━━━━━━━━━━━━━━━━━\u001B[0m\u001B[37m\u001B[0m \u001B[1m1s\u001B[0m 14ms/step - accuracy: 0.5705 - loss: 0.1378 - val_accuracy: 0.7383 - val_loss: 0.0984\n",
      "Epoch 22/50\n",
      "\u001B[1m37/37\u001B[0m \u001B[32m━━━━━━━━━━━━━━━━━━━━\u001B[0m\u001B[37m\u001B[0m \u001B[1m1s\u001B[0m 14ms/step - accuracy: 0.5869 - loss: 0.1367 - val_accuracy: 0.7248 - val_loss: 0.0978\n",
      "Epoch 23/50\n",
      "\u001B[1m37/37\u001B[0m \u001B[32m━━━━━━━━━━━━━━━━━━━━\u001B[0m\u001B[37m\u001B[0m \u001B[1m1s\u001B[0m 14ms/step - accuracy: 0.5889 - loss: 0.1354 - val_accuracy: 0.7601 - val_loss: 0.0961\n",
      "Epoch 24/50\n",
      "\u001B[1m37/37\u001B[0m \u001B[32m━━━━━━━━━━━━━━━━━━━━\u001B[0m\u001B[37m\u001B[0m \u001B[1m1s\u001B[0m 15ms/step - accuracy: 0.5840 - loss: 0.1298 - val_accuracy: 0.7433 - val_loss: 0.0947\n",
      "Epoch 25/50\n",
      "\u001B[1m37/37\u001B[0m \u001B[32m━━━━━━━━━━━━━━━━━━━━\u001B[0m\u001B[37m\u001B[0m \u001B[1m1s\u001B[0m 14ms/step - accuracy: 0.6126 - loss: 0.1294 - val_accuracy: 0.7584 - val_loss: 0.0939\n",
      "Epoch 26/50\n",
      "\u001B[1m37/37\u001B[0m \u001B[32m━━━━━━━━━━━━━━━━━━━━\u001B[0m\u001B[37m\u001B[0m \u001B[1m1s\u001B[0m 14ms/step - accuracy: 0.6027 - loss: 0.1287 - val_accuracy: 0.7601 - val_loss: 0.0927\n",
      "Epoch 27/50\n",
      "\u001B[1m37/37\u001B[0m \u001B[32m━━━━━━━━━━━━━━━━━━━━\u001B[0m\u001B[37m\u001B[0m \u001B[1m1s\u001B[0m 15ms/step - accuracy: 0.6083 - loss: 0.1286 - val_accuracy: 0.7500 - val_loss: 0.0917\n",
      "Epoch 28/50\n",
      "\u001B[1m37/37\u001B[0m \u001B[32m━━━━━━━━━━━━━━━━━━━━\u001B[0m\u001B[37m\u001B[0m \u001B[1m1s\u001B[0m 14ms/step - accuracy: 0.6265 - loss: 0.1266 - val_accuracy: 0.7617 - val_loss: 0.0909\n",
      "Epoch 29/50\n",
      "\u001B[1m37/37\u001B[0m \u001B[32m━━━━━━━━━━━━━━━━━━━━\u001B[0m\u001B[37m\u001B[0m \u001B[1m1s\u001B[0m 14ms/step - accuracy: 0.6454 - loss: 0.1230 - val_accuracy: 0.7785 - val_loss: 0.0888\n",
      "Epoch 30/50\n",
      "\u001B[1m37/37\u001B[0m \u001B[32m━━━━━━━━━━━━━━━━━━━━\u001B[0m\u001B[37m\u001B[0m \u001B[1m1s\u001B[0m 14ms/step - accuracy: 0.6126 - loss: 0.1278 - val_accuracy: 0.7517 - val_loss: 0.0880\n",
      "Epoch 31/50\n",
      "\u001B[1m37/37\u001B[0m \u001B[32m━━━━━━━━━━━━━━━━━━━━\u001B[0m\u001B[37m\u001B[0m \u001B[1m1s\u001B[0m 14ms/step - accuracy: 0.6280 - loss: 0.1224 - val_accuracy: 0.7752 - val_loss: 0.0858\n",
      "Epoch 32/50\n",
      "\u001B[1m37/37\u001B[0m \u001B[32m━━━━━━━━━━━━━━━━━━━━\u001B[0m\u001B[37m\u001B[0m \u001B[1m1s\u001B[0m 15ms/step - accuracy: 0.6336 - loss: 0.1211 - val_accuracy: 0.7718 - val_loss: 0.0851\n",
      "Epoch 33/50\n",
      "\u001B[1m37/37\u001B[0m \u001B[32m━━━━━━━━━━━━━━━━━━━━\u001B[0m\u001B[37m\u001B[0m \u001B[1m1s\u001B[0m 14ms/step - accuracy: 0.6146 - loss: 0.1242 - val_accuracy: 0.7685 - val_loss: 0.0881\n",
      "Epoch 34/50\n",
      "\u001B[1m37/37\u001B[0m \u001B[32m━━━━━━━━━━━━━━━━━━━━\u001B[0m\u001B[37m\u001B[0m \u001B[1m1s\u001B[0m 15ms/step - accuracy: 0.6392 - loss: 0.1182 - val_accuracy: 0.7735 - val_loss: 0.0846\n",
      "Epoch 35/50\n",
      "\u001B[1m37/37\u001B[0m \u001B[32m━━━━━━━━━━━━━━━━━━━━\u001B[0m\u001B[37m\u001B[0m \u001B[1m1s\u001B[0m 14ms/step - accuracy: 0.6410 - loss: 0.1174 - val_accuracy: 0.7919 - val_loss: 0.0827\n",
      "Epoch 36/50\n",
      "\u001B[1m37/37\u001B[0m \u001B[32m━━━━━━━━━━━━━━━━━━━━\u001B[0m\u001B[37m\u001B[0m \u001B[1m1s\u001B[0m 15ms/step - accuracy: 0.6419 - loss: 0.1157 - val_accuracy: 0.7903 - val_loss: 0.0819\n",
      "Epoch 37/50\n",
      "\u001B[1m37/37\u001B[0m \u001B[32m━━━━━━━━━━━━━━━━━━━━\u001B[0m\u001B[37m\u001B[0m \u001B[1m1s\u001B[0m 15ms/step - accuracy: 0.6751 - loss: 0.1126 - val_accuracy: 0.7987 - val_loss: 0.0813\n",
      "Epoch 38/50\n",
      "\u001B[1m37/37\u001B[0m \u001B[32m━━━━━━━━━━━━━━━━━━━━\u001B[0m\u001B[37m\u001B[0m \u001B[1m1s\u001B[0m 14ms/step - accuracy: 0.6432 - loss: 0.1171 - val_accuracy: 0.8087 - val_loss: 0.0810\n",
      "Epoch 39/50\n",
      "\u001B[1m37/37\u001B[0m \u001B[32m━━━━━━━━━━━━━━━━━━━━\u001B[0m\u001B[37m\u001B[0m \u001B[1m1s\u001B[0m 15ms/step - accuracy: 0.6681 - loss: 0.1135 - val_accuracy: 0.7550 - val_loss: 0.0814\n",
      "Epoch 40/50\n",
      "\u001B[1m37/37\u001B[0m \u001B[32m━━━━━━━━━━━━━━━━━━━━\u001B[0m\u001B[37m\u001B[0m \u001B[1m1s\u001B[0m 15ms/step - accuracy: 0.6677 - loss: 0.1117 - val_accuracy: 0.7819 - val_loss: 0.0801\n",
      "Epoch 41/50\n",
      "\u001B[1m37/37\u001B[0m \u001B[32m━━━━━━━━━━━━━━━━━━━━\u001B[0m\u001B[37m\u001B[0m \u001B[1m1s\u001B[0m 14ms/step - accuracy: 0.6707 - loss: 0.1137 - val_accuracy: 0.7819 - val_loss: 0.0794\n",
      "Epoch 42/50\n",
      "\u001B[1m37/37\u001B[0m \u001B[32m━━━━━━━━━━━━━━━━━━━━\u001B[0m\u001B[37m\u001B[0m \u001B[1m1s\u001B[0m 14ms/step - accuracy: 0.6750 - loss: 0.1125 - val_accuracy: 0.7668 - val_loss: 0.0805\n",
      "Epoch 43/50\n",
      "\u001B[1m37/37\u001B[0m \u001B[32m━━━━━━━━━━━━━━━━━━━━\u001B[0m\u001B[37m\u001B[0m \u001B[1m1s\u001B[0m 14ms/step - accuracy: 0.6396 - loss: 0.1173 - val_accuracy: 0.7869 - val_loss: 0.0781\n",
      "Epoch 44/50\n",
      "\u001B[1m37/37\u001B[0m \u001B[32m━━━━━━━━━━━━━━━━━━━━\u001B[0m\u001B[37m\u001B[0m \u001B[1m1s\u001B[0m 14ms/step - accuracy: 0.6805 - loss: 0.1100 - val_accuracy: 0.7970 - val_loss: 0.0777\n",
      "Epoch 45/50\n",
      "\u001B[1m37/37\u001B[0m \u001B[32m━━━━━━━━━━━━━━━━━━━━\u001B[0m\u001B[37m\u001B[0m \u001B[1m1s\u001B[0m 15ms/step - accuracy: 0.6876 - loss: 0.1096 - val_accuracy: 0.7970 - val_loss: 0.0770\n",
      "Epoch 46/50\n",
      "\u001B[1m37/37\u001B[0m \u001B[32m━━━━━━━━━━━━━━━━━━━━\u001B[0m\u001B[37m\u001B[0m \u001B[1m1s\u001B[0m 14ms/step - accuracy: 0.6681 - loss: 0.1088 - val_accuracy: 0.7919 - val_loss: 0.0738\n",
      "Epoch 47/50\n",
      "\u001B[1m37/37\u001B[0m \u001B[32m━━━━━━━━━━━━━━━━━━━━\u001B[0m\u001B[37m\u001B[0m \u001B[1m1s\u001B[0m 14ms/step - accuracy: 0.6897 - loss: 0.1053 - val_accuracy: 0.8070 - val_loss: 0.0735\n",
      "Epoch 48/50\n",
      "\u001B[1m37/37\u001B[0m \u001B[32m━━━━━━━━━━━━━━━━━━━━\u001B[0m\u001B[37m\u001B[0m \u001B[1m1s\u001B[0m 14ms/step - accuracy: 0.6775 - loss: 0.1099 - val_accuracy: 0.8121 - val_loss: 0.0736\n",
      "Epoch 49/50\n",
      "\u001B[1m37/37\u001B[0m \u001B[32m━━━━━━━━━━━━━━━━━━━━\u001B[0m\u001B[37m\u001B[0m \u001B[1m1s\u001B[0m 14ms/step - accuracy: 0.7136 - loss: 0.1022 - val_accuracy: 0.8054 - val_loss: 0.0729\n",
      "Epoch 50/50\n",
      "\u001B[1m37/37\u001B[0m \u001B[32m━━━━━━━━━━━━━━━━━━━━\u001B[0m\u001B[37m\u001B[0m \u001B[1m1s\u001B[0m 14ms/step - accuracy: 0.7086 - loss: 0.1015 - val_accuracy: 0.8054 - val_loss: 0.0732\n"
     ]
    }
   ],
   "source": [
    "epochs = 50\n",
    "history_baseline_categorical = baseline_categorical.fit(\n",
    "    train_generator,\n",
    "    validation_data=val_generator,\n",
    "    epochs=epochs\n",
    ")"
   ],
   "metadata": {
    "collapsed": false,
    "ExecuteTime": {
     "end_time": "2024-05-08T05:15:40.142485Z",
     "start_time": "2024-05-08T05:15:07.272481Z"
    }
   },
   "id": "e2baac02dc62a81",
   "execution_count": 146
  },
  {
   "cell_type": "markdown",
   "source": [
    "## CNN Model for Multi Class"
   ],
   "metadata": {
    "collapsed": false
   },
   "id": "14298899e4ac5677"
  },
  {
   "cell_type": "code",
   "outputs": [],
   "source": [
    "from tensorflow.keras import models, layers\n",
    "\n",
    "num_classes = 16  # 根据你的任务调整类别数\n",
    "\n",
    "cnn_model = models.Sequential([\n",
    "    layers.Input(shape=(28, 28, 1)),  # 灰度图像输入，1 个通道\n",
    "    layers.Conv2D(32, (3, 3), padding='same'),  # 第一卷积层，32 个滤波器\n",
    "    layers.BatchNormalization(),  # 添加批归一化\n",
    "    layers.Activation('relu'),  # 激活层\n",
    "    layers.MaxPooling2D((2, 2)),  # 最大池化\n",
    "    layers.Conv2D(64, (3, 3), padding='same'),  # 第二卷积层，64 个滤波器\n",
    "    layers.BatchNormalization(),  # 添加批归一化\n",
    "    layers.Activation('relu'),  # 激活层\n",
    "    layers.MaxPooling2D((2, 2)),  # 最大池化\n",
    "    layers.Conv2D(128, (3, 3), padding='same'),  # 第三卷积层，128 个滤波器\n",
    "    layers.BatchNormalization(),  # 添加批归一化\n",
    "    layers.Activation('relu'),  # 激活层\n",
    "    layers.MaxPooling2D((2, 2)),  # 最大池化\n",
    "    layers.Flatten(),  # 将卷积结果展平\n",
    "    layers.Dense(512),  # 全连接层\n",
    "    layers.BatchNormalization(),  # 添加批归一化\n",
    "    layers.Activation('relu'),  # 激活层\n",
    "    layers.Dense(num_classes, activation='softmax')  # 输出层，使用 softmax 激活\n",
    "])\n",
    "\n",
    "cnn_model.compile(\n",
    "    loss='categorical_crossentropy',  # 使用多分类交叉熵损失\n",
    "    optimizer=tf.keras.optimizers.Adam(),  # Adam 优化器\n",
    "    metrics=['accuracy']  # 使用准确率作为指标\n",
    ")\n"
   ],
   "metadata": {
    "collapsed": false,
    "ExecuteTime": {
     "end_time": "2024-05-08T05:15:40.209610Z",
     "start_time": "2024-05-08T05:15:40.143924Z"
    }
   },
   "id": "9e47a934164fc830",
   "execution_count": 147
  },
  {
   "cell_type": "code",
   "outputs": [
    {
     "name": "stdout",
     "output_type": "stream",
     "text": [
      "Epoch 1/50\n",
      "\u001B[1m37/37\u001B[0m \u001B[32m━━━━━━━━━━━━━━━━━━━━\u001B[0m\u001B[37m\u001B[0m \u001B[1m9s\u001B[0m 136ms/step - accuracy: 0.4454 - loss: 1.8079 - val_accuracy: 0.0654 - val_loss: 2.6519\n",
      "Epoch 2/50\n",
      "\u001B[1m37/37\u001B[0m \u001B[32m━━━━━━━━━━━━━━━━━━━━\u001B[0m\u001B[37m\u001B[0m \u001B[1m2s\u001B[0m 48ms/step - accuracy: 0.8235 - loss: 0.5784 - val_accuracy: 0.1208 - val_loss: 2.8052\n",
      "Epoch 3/50\n",
      "\u001B[1m37/37\u001B[0m \u001B[32m━━━━━━━━━━━━━━━━━━━━\u001B[0m\u001B[37m\u001B[0m \u001B[1m2s\u001B[0m 46ms/step - accuracy: 0.8972 - loss: 0.3371 - val_accuracy: 0.1510 - val_loss: 3.0375\n",
      "Epoch 4/50\n",
      "\u001B[1m37/37\u001B[0m \u001B[32m━━━━━━━━━━━━━━━━━━━━\u001B[0m\u001B[37m\u001B[0m \u001B[1m2s\u001B[0m 47ms/step - accuracy: 0.9139 - loss: 0.2745 - val_accuracy: 0.2685 - val_loss: 3.2127\n",
      "Epoch 5/50\n",
      "\u001B[1m37/37\u001B[0m \u001B[32m━━━━━━━━━━━━━━━━━━━━\u001B[0m\u001B[37m\u001B[0m \u001B[1m2s\u001B[0m 47ms/step - accuracy: 0.9333 - loss: 0.2368 - val_accuracy: 0.2064 - val_loss: 3.3986\n",
      "Epoch 6/50\n",
      "\u001B[1m37/37\u001B[0m \u001B[32m━━━━━━━━━━━━━━━━━━━━\u001B[0m\u001B[37m\u001B[0m \u001B[1m2s\u001B[0m 47ms/step - accuracy: 0.9520 - loss: 0.1776 - val_accuracy: 0.2651 - val_loss: 2.6813\n",
      "Epoch 7/50\n",
      "\u001B[1m37/37\u001B[0m \u001B[32m━━━━━━━━━━━━━━━━━━━━\u001B[0m\u001B[37m\u001B[0m \u001B[1m2s\u001B[0m 46ms/step - accuracy: 0.9423 - loss: 0.1774 - val_accuracy: 0.4262 - val_loss: 1.6798\n",
      "Epoch 8/50\n",
      "\u001B[1m37/37\u001B[0m \u001B[32m━━━━━━━━━━━━━━━━━━━━\u001B[0m\u001B[37m\u001B[0m \u001B[1m2s\u001B[0m 47ms/step - accuracy: 0.9643 - loss: 0.1347 - val_accuracy: 0.4279 - val_loss: 1.8247\n",
      "Epoch 9/50\n",
      "\u001B[1m37/37\u001B[0m \u001B[32m━━━━━━━━━━━━━━━━━━━━\u001B[0m\u001B[37m\u001B[0m \u001B[1m2s\u001B[0m 46ms/step - accuracy: 0.9611 - loss: 0.1273 - val_accuracy: 0.5168 - val_loss: 1.5453\n",
      "Epoch 10/50\n",
      "\u001B[1m37/37\u001B[0m \u001B[32m━━━━━━━━━━━━━━━━━━━━\u001B[0m\u001B[37m\u001B[0m \u001B[1m2s\u001B[0m 46ms/step - accuracy: 0.9528 - loss: 0.1330 - val_accuracy: 0.7701 - val_loss: 0.7037\n",
      "Epoch 11/50\n",
      "\u001B[1m37/37\u001B[0m \u001B[32m━━━━━━━━━━━━━━━━━━━━\u001B[0m\u001B[37m\u001B[0m \u001B[1m2s\u001B[0m 47ms/step - accuracy: 0.9704 - loss: 0.1040 - val_accuracy: 0.8691 - val_loss: 0.3532\n",
      "Epoch 12/50\n",
      "\u001B[1m37/37\u001B[0m \u001B[32m━━━━━━━━━━━━━━━━━━━━\u001B[0m\u001B[37m\u001B[0m \u001B[1m2s\u001B[0m 45ms/step - accuracy: 0.9728 - loss: 0.0890 - val_accuracy: 0.9262 - val_loss: 0.2119\n",
      "Epoch 13/50\n",
      "\u001B[1m37/37\u001B[0m \u001B[32m━━━━━━━━━━━━━━━━━━━━\u001B[0m\u001B[37m\u001B[0m \u001B[1m2s\u001B[0m 45ms/step - accuracy: 0.9699 - loss: 0.0853 - val_accuracy: 0.9581 - val_loss: 0.1394\n",
      "Epoch 14/50\n",
      "\u001B[1m37/37\u001B[0m \u001B[32m━━━━━━━━━━━━━━━━━━━━\u001B[0m\u001B[37m\u001B[0m \u001B[1m2s\u001B[0m 45ms/step - accuracy: 0.9738 - loss: 0.0812 - val_accuracy: 0.9631 - val_loss: 0.1008\n",
      "Epoch 15/50\n",
      "\u001B[1m37/37\u001B[0m \u001B[32m━━━━━━━━━━━━━━━━━━━━\u001B[0m\u001B[37m\u001B[0m \u001B[1m2s\u001B[0m 45ms/step - accuracy: 0.9789 - loss: 0.0750 - val_accuracy: 0.9681 - val_loss: 0.0910\n",
      "Epoch 16/50\n",
      "\u001B[1m37/37\u001B[0m \u001B[32m━━━━━━━━━━━━━━━━━━━━\u001B[0m\u001B[37m\u001B[0m \u001B[1m2s\u001B[0m 45ms/step - accuracy: 0.9819 - loss: 0.0638 - val_accuracy: 0.9866 - val_loss: 0.0407\n",
      "Epoch 17/50\n",
      "\u001B[1m37/37\u001B[0m \u001B[32m━━━━━━━━━━━━━━━━━━━━\u001B[0m\u001B[37m\u001B[0m \u001B[1m2s\u001B[0m 45ms/step - accuracy: 0.9830 - loss: 0.0633 - val_accuracy: 0.9866 - val_loss: 0.0528\n",
      "Epoch 18/50\n",
      "\u001B[1m37/37\u001B[0m \u001B[32m━━━━━━━━━━━━━━━━━━━━\u001B[0m\u001B[37m\u001B[0m \u001B[1m2s\u001B[0m 45ms/step - accuracy: 0.9740 - loss: 0.0879 - val_accuracy: 0.9782 - val_loss: 0.0848\n",
      "Epoch 19/50\n",
      "\u001B[1m37/37\u001B[0m \u001B[32m━━━━━━━━━━━━━━━━━━━━\u001B[0m\u001B[37m\u001B[0m \u001B[1m2s\u001B[0m 45ms/step - accuracy: 0.9781 - loss: 0.0671 - val_accuracy: 0.9765 - val_loss: 0.0755\n",
      "Epoch 20/50\n",
      "\u001B[1m37/37\u001B[0m \u001B[32m━━━━━━━━━━━━━━━━━━━━\u001B[0m\u001B[37m\u001B[0m \u001B[1m2s\u001B[0m 46ms/step - accuracy: 0.9871 - loss: 0.0475 - val_accuracy: 0.9849 - val_loss: 0.0408\n",
      "Epoch 21/50\n",
      "\u001B[1m37/37\u001B[0m \u001B[32m━━━━━━━━━━━━━━━━━━━━\u001B[0m\u001B[37m\u001B[0m \u001B[1m2s\u001B[0m 45ms/step - accuracy: 0.9833 - loss: 0.0595 - val_accuracy: 0.9832 - val_loss: 0.0565\n",
      "Epoch 22/50\n",
      "\u001B[1m37/37\u001B[0m \u001B[32m━━━━━━━━━━━━━━━━━━━━\u001B[0m\u001B[37m\u001B[0m \u001B[1m2s\u001B[0m 46ms/step - accuracy: 0.9777 - loss: 0.0705 - val_accuracy: 0.9849 - val_loss: 0.0466\n",
      "Epoch 23/50\n",
      "\u001B[1m37/37\u001B[0m \u001B[32m━━━━━━━━━━━━━━━━━━━━\u001B[0m\u001B[37m\u001B[0m \u001B[1m2s\u001B[0m 45ms/step - accuracy: 0.9803 - loss: 0.0645 - val_accuracy: 0.9866 - val_loss: 0.0552\n",
      "Epoch 24/50\n",
      "\u001B[1m37/37\u001B[0m \u001B[32m━━━━━━━━━━━━━━━━━━━━\u001B[0m\u001B[37m\u001B[0m \u001B[1m2s\u001B[0m 45ms/step - accuracy: 0.9791 - loss: 0.0614 - val_accuracy: 0.9782 - val_loss: 0.0794\n",
      "Epoch 25/50\n",
      "\u001B[1m37/37\u001B[0m \u001B[32m━━━━━━━━━━━━━━━━━━━━\u001B[0m\u001B[37m\u001B[0m \u001B[1m2s\u001B[0m 45ms/step - accuracy: 0.9850 - loss: 0.0495 - val_accuracy: 0.9765 - val_loss: 0.0805\n",
      "Epoch 26/50\n",
      "\u001B[1m37/37\u001B[0m \u001B[32m━━━━━━━━━━━━━━━━━━━━\u001B[0m\u001B[37m\u001B[0m \u001B[1m2s\u001B[0m 46ms/step - accuracy: 0.9804 - loss: 0.0580 - val_accuracy: 0.9815 - val_loss: 0.0788\n",
      "Epoch 27/50\n",
      "\u001B[1m37/37\u001B[0m \u001B[32m━━━━━━━━━━━━━━━━━━━━\u001B[0m\u001B[37m\u001B[0m \u001B[1m2s\u001B[0m 45ms/step - accuracy: 0.9857 - loss: 0.0431 - val_accuracy: 0.9715 - val_loss: 0.0785\n",
      "Epoch 28/50\n",
      "\u001B[1m37/37\u001B[0m \u001B[32m━━━━━━━━━━━━━━━━━━━━\u001B[0m\u001B[37m\u001B[0m \u001B[1m2s\u001B[0m 45ms/step - accuracy: 0.9887 - loss: 0.0402 - val_accuracy: 0.9597 - val_loss: 0.0957\n",
      "Epoch 29/50\n",
      "\u001B[1m37/37\u001B[0m \u001B[32m━━━━━━━━━━━━━━━━━━━━\u001B[0m\u001B[37m\u001B[0m \u001B[1m2s\u001B[0m 45ms/step - accuracy: 0.9880 - loss: 0.0452 - val_accuracy: 0.9883 - val_loss: 0.0498\n",
      "Epoch 30/50\n",
      "\u001B[1m37/37\u001B[0m \u001B[32m━━━━━━━━━━━━━━━━━━━━\u001B[0m\u001B[37m\u001B[0m \u001B[1m2s\u001B[0m 45ms/step - accuracy: 0.9906 - loss: 0.0391 - val_accuracy: 0.9916 - val_loss: 0.0247\n",
      "Epoch 31/50\n",
      "\u001B[1m37/37\u001B[0m \u001B[32m━━━━━━━━━━━━━━━━━━━━\u001B[0m\u001B[37m\u001B[0m \u001B[1m2s\u001B[0m 45ms/step - accuracy: 0.9932 - loss: 0.0283 - val_accuracy: 0.9597 - val_loss: 0.1489\n",
      "Epoch 32/50\n",
      "\u001B[1m37/37\u001B[0m \u001B[32m━━━━━━━━━━━━━━━━━━━━\u001B[0m\u001B[37m\u001B[0m \u001B[1m2s\u001B[0m 45ms/step - accuracy: 0.9868 - loss: 0.0443 - val_accuracy: 0.9799 - val_loss: 0.0651\n",
      "Epoch 33/50\n",
      "\u001B[1m37/37\u001B[0m \u001B[32m━━━━━━━━━━━━━━━━━━━━\u001B[0m\u001B[37m\u001B[0m \u001B[1m2s\u001B[0m 46ms/step - accuracy: 0.9879 - loss: 0.0283 - val_accuracy: 0.9849 - val_loss: 0.0476\n",
      "Epoch 34/50\n",
      "\u001B[1m37/37\u001B[0m \u001B[32m━━━━━━━━━━━━━━━━━━━━\u001B[0m\u001B[37m\u001B[0m \u001B[1m2s\u001B[0m 45ms/step - accuracy: 0.9862 - loss: 0.0359 - val_accuracy: 0.9899 - val_loss: 0.0384\n",
      "Epoch 35/50\n",
      "\u001B[1m37/37\u001B[0m \u001B[32m━━━━━━━━━━━━━━━━━━━━\u001B[0m\u001B[37m\u001B[0m \u001B[1m2s\u001B[0m 45ms/step - accuracy: 0.9862 - loss: 0.0428 - val_accuracy: 0.9782 - val_loss: 0.0758\n",
      "Epoch 36/50\n",
      "\u001B[1m37/37\u001B[0m \u001B[32m━━━━━━━━━━━━━━━━━━━━\u001B[0m\u001B[37m\u001B[0m \u001B[1m2s\u001B[0m 46ms/step - accuracy: 0.9906 - loss: 0.0255 - val_accuracy: 0.9899 - val_loss: 0.0405\n",
      "Epoch 37/50\n",
      "\u001B[1m37/37\u001B[0m \u001B[32m━━━━━━━━━━━━━━━━━━━━\u001B[0m\u001B[37m\u001B[0m \u001B[1m2s\u001B[0m 45ms/step - accuracy: 0.9959 - loss: 0.0192 - val_accuracy: 0.9782 - val_loss: 0.0617\n",
      "Epoch 38/50\n",
      "\u001B[1m37/37\u001B[0m \u001B[32m━━━━━━━━━━━━━━━━━━━━\u001B[0m\u001B[37m\u001B[0m \u001B[1m2s\u001B[0m 45ms/step - accuracy: 0.9888 - loss: 0.0326 - val_accuracy: 0.9748 - val_loss: 0.0960\n",
      "Epoch 39/50\n",
      "\u001B[1m37/37\u001B[0m \u001B[32m━━━━━━━━━━━━━━━━━━━━\u001B[0m\u001B[37m\u001B[0m \u001B[1m2s\u001B[0m 45ms/step - accuracy: 0.9840 - loss: 0.0480 - val_accuracy: 0.9933 - val_loss: 0.0257\n",
      "Epoch 40/50\n",
      "\u001B[1m37/37\u001B[0m \u001B[32m━━━━━━━━━━━━━━━━━━━━\u001B[0m\u001B[37m\u001B[0m \u001B[1m2s\u001B[0m 45ms/step - accuracy: 0.9869 - loss: 0.0377 - val_accuracy: 0.9715 - val_loss: 0.0688\n",
      "Epoch 41/50\n",
      "\u001B[1m37/37\u001B[0m \u001B[32m━━━━━━━━━━━━━━━━━━━━\u001B[0m\u001B[37m\u001B[0m \u001B[1m2s\u001B[0m 45ms/step - accuracy: 0.9842 - loss: 0.0456 - val_accuracy: 0.9849 - val_loss: 0.0298\n",
      "Epoch 42/50\n",
      "\u001B[1m37/37\u001B[0m \u001B[32m━━━━━━━━━━━━━━━━━━━━\u001B[0m\u001B[37m\u001B[0m \u001B[1m2s\u001B[0m 45ms/step - accuracy: 0.9904 - loss: 0.0290 - val_accuracy: 0.9815 - val_loss: 0.0494\n",
      "Epoch 43/50\n",
      "\u001B[1m37/37\u001B[0m \u001B[32m━━━━━━━━━━━━━━━━━━━━\u001B[0m\u001B[37m\u001B[0m \u001B[1m2s\u001B[0m 45ms/step - accuracy: 0.9893 - loss: 0.0330 - val_accuracy: 0.9849 - val_loss: 0.0413\n",
      "Epoch 44/50\n",
      "\u001B[1m37/37\u001B[0m \u001B[32m━━━━━━━━━━━━━━━━━━━━\u001B[0m\u001B[37m\u001B[0m \u001B[1m2s\u001B[0m 45ms/step - accuracy: 0.9879 - loss: 0.0402 - val_accuracy: 0.9933 - val_loss: 0.0293\n",
      "Epoch 45/50\n",
      "\u001B[1m37/37\u001B[0m \u001B[32m━━━━━━━━━━━━━━━━━━━━\u001B[0m\u001B[37m\u001B[0m \u001B[1m2s\u001B[0m 45ms/step - accuracy: 0.9910 - loss: 0.0328 - val_accuracy: 0.9916 - val_loss: 0.0344\n",
      "Epoch 46/50\n",
      "\u001B[1m37/37\u001B[0m \u001B[32m━━━━━━━━━━━━━━━━━━━━\u001B[0m\u001B[37m\u001B[0m \u001B[1m2s\u001B[0m 45ms/step - accuracy: 0.9903 - loss: 0.0322 - val_accuracy: 0.9832 - val_loss: 0.0555\n",
      "Epoch 47/50\n",
      "\u001B[1m37/37\u001B[0m \u001B[32m━━━━━━━━━━━━━━━━━━━━\u001B[0m\u001B[37m\u001B[0m \u001B[1m2s\u001B[0m 45ms/step - accuracy: 0.9898 - loss: 0.0344 - val_accuracy: 0.9883 - val_loss: 0.0454\n",
      "Epoch 48/50\n",
      "\u001B[1m37/37\u001B[0m \u001B[32m━━━━━━━━━━━━━━━━━━━━\u001B[0m\u001B[37m\u001B[0m \u001B[1m2s\u001B[0m 45ms/step - accuracy: 0.9888 - loss: 0.0317 - val_accuracy: 0.9748 - val_loss: 0.0479\n",
      "Epoch 49/50\n",
      "\u001B[1m37/37\u001B[0m \u001B[32m━━━━━━━━━━━━━━━━━━━━\u001B[0m\u001B[37m\u001B[0m \u001B[1m2s\u001B[0m 44ms/step - accuracy: 0.9915 - loss: 0.0256 - val_accuracy: 0.9899 - val_loss: 0.0380\n",
      "Epoch 50/50\n",
      "\u001B[1m37/37\u001B[0m \u001B[32m━━━━━━━━━━━━━━━━━━━━\u001B[0m\u001B[37m\u001B[0m \u001B[1m2s\u001B[0m 45ms/step - accuracy: 0.9937 - loss: 0.0172 - val_accuracy: 0.9916 - val_loss: 0.0333\n"
     ]
    }
   ],
   "source": [
    "epochs = 50\n",
    "history_cnn = cnn_model.fit(\n",
    "    train_generator,\n",
    "    validation_data=val_generator,\n",
    "    epochs=epochs\n",
    ")\n"
   ],
   "metadata": {
    "collapsed": false,
    "ExecuteTime": {
     "end_time": "2024-05-08T05:17:15.716398Z",
     "start_time": "2024-05-08T05:15:40.210432Z"
    }
   },
   "id": "1e1892988de3c87d",
   "execution_count": 148
  }
 ],
 "metadata": {
  "kernelspec": {
   "display_name": "Python 3",
   "language": "python",
   "name": "python3"
  },
  "language_info": {
   "codemirror_mode": {
    "name": "ipython",
    "version": 2
   },
   "file_extension": ".py",
   "mimetype": "text/x-python",
   "name": "python",
   "nbconvert_exporter": "python",
   "pygments_lexer": "ipython2",
   "version": "2.7.6"
  }
 },
 "nbformat": 4,
 "nbformat_minor": 5
}
